{
 "cells": [
  {
   "cell_type": "code",
   "execution_count": 5,
   "id": "5a82fd14",
   "metadata": {},
   "outputs": [
    {
     "name": "stdout",
     "output_type": "stream",
     "text": [
      "Hello!\n"
     ]
    }
   ],
   "source": [
    "# 沒有參數,沒有傳出值\n",
    "def sayHello():\n",
    "        print(\"Hello!\")\n",
    "\n",
    "sayHello()"
   ]
  },
  {
   "cell_type": "code",
   "execution_count": null,
   "id": "caf8ab21",
   "metadata": {},
   "outputs": [
    {
     "name": "stdout",
     "output_type": "stream",
     "text": [
      "哩賀,宇冠盧!\n"
     ]
    }
   ],
   "source": [
    "def sayHello(name): # 1個參數,沒有傳出值\n",
    "    print(f\"哩賀,{name}!\")\n",
    "\n",
    "sayHello(\"宇冠盧\")"
   ]
  },
  {
   "cell_type": "code",
   "execution_count": 13,
   "id": "cd27cba9",
   "metadata": {},
   "outputs": [
    {
     "name": "stdout",
     "output_type": "stream",
     "text": [
      "哩賀,宇冠盧!\n"
     ]
    }
   ],
   "source": [
    "def sayHello(name): # 1個參數,沒有傳出值\n",
    "    return f\"哩賀,{name}!\"\n",
    "\n",
    "print(sayHello(\"宇冠盧\"))"
   ]
  },
  {
   "cell_type": "code",
   "execution_count": 21,
   "id": "c5d31fc3",
   "metadata": {},
   "outputs": [
    {
     "name": "stdout",
     "output_type": "stream",
     "text": [
      "====種族分類=======\n",
      "\n",
      "您的BMI是100.0\n",
      "你是豬\n"
     ]
    }
   ],
   "source": [
    "def get_bmi(w,h): #2個參數,傳出一個值\n",
    "    bmi = w / (h/100) ** 2\n",
    "    return bmi\n",
    "\n",
    "def bmi_status(bmi): #1個參數\n",
    "    if bmi<18.5:\n",
    "        message = \"排骨精\"\n",
    "    elif bmi<24:\n",
    "        message = \"猴族\"\n",
    "    elif bmi<27:\n",
    "        message = \"狒狒或狼\"\n",
    "    elif bmi<30:\n",
    "        message = \"熊族\"\n",
    "    elif bmi<35:\n",
    "        message = \"大熊\"\n",
    "    else:\n",
    "        message = \"你是豬\"\n",
    "    \n",
    "    return message\n",
    "\n",
    "# 計算BMI\n",
    "print(\"====種族分類=======\\n\")\n",
    "height = int(input(\"請輸入身高(cm):\"))\n",
    "weight = int(input(\"請輸入體重(kg):\"))\n",
    "bmi = get_bmi(weight, height)\n",
    "print(f\"您的BMI是{round(bmi,ndigits=2)}\")\n",
    "status = bmi_status(bmi)\n",
    "print(status)\n"
   ]
  },
  {
   "cell_type": "code",
   "execution_count": null,
   "id": "17ccc88b",
   "metadata": {},
   "outputs": [],
   "source": [
    "def get_bmi(w,h): #2個參數,傳出1個值\n",
    "    bmi = w / (h/100) ** 2\n",
    "    return bmi\n",
    "\n",
    "def bmi_status(bmi): #1個參數,傳出1個值\n",
    "    if bmi<18.5:\n",
    "        message = \"體重過輕\"\n",
    "    elif bmi<24:\n",
    "        message = \"正常範圍\"\n",
    "    elif bmi<27:\n",
    "        message = \"過重\"\n",
    "    elif bmi<30:\n",
    "        message = \"輕度肥胖\"\n",
    "    elif bmi<35:\n",
    "        message = \"中度肥胖\"\n",
    "    else:\n",
    "        message = \"重度肥胖\"\n",
    "    \n",
    "    return message\n",
    "\n",
    "\n",
    "# 計算BMI\n",
    "print(\"====BMI計算=======\\n\")\n",
    "height = int(input(\"請輸入身高(cm):\"))\n",
    "weight = int(input(\"請輸入體重(kg):\"))\n",
    "bmi = get_bmi(weight, height)\n",
    "print(f\"您的BMI是{round(bmi,ndigits=2)}\")\n",
    "status = bmi_status(bmi)\n",
    "print(status)"
   ]
  }
 ],
 "metadata": {
  "kernelspec": {
   "display_name": "base",
   "language": "python",
   "name": "python3"
  },
  "language_info": {
   "codemirror_mode": {
    "name": "ipython",
    "version": 3
   },
   "file_extension": ".py",
   "mimetype": "text/x-python",
   "name": "python",
   "nbconvert_exporter": "python",
   "pygments_lexer": "ipython3",
   "version": "3.13.2"
  }
 },
 "nbformat": 4,
 "nbformat_minor": 5
}
