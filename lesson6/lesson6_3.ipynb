{
 "cells": [
  {
   "cell_type": "code",
   "execution_count": 4,
   "id": "5331c064",
   "metadata": {},
   "outputs": [],
   "source": [
    "def menu(wine, entree, dessert):\n",
    "    print(f\"酒類:{wine}\")\n",
    "    print(f\"主食:{entree}\")\n",
    "    print(f\"甜點:{dessert}\")"
   ]
  },
  {
   "cell_type": "code",
   "execution_count": 7,
   "id": "f9930fc5",
   "metadata": {},
   "outputs": [
    {
     "name": "stdout",
     "output_type": "stream",
     "text": [
      "酒類:神仙水\n",
      "主食:戰斧豬排\n",
      "甜點:仰望星空\n"
     ]
    }
   ],
   "source": [
    "# 引述位置\n",
    "# 依照參照的順序\n",
    "\n",
    "menu('神仙水','戰斧豬排','仰望星空')"
   ]
  },
  {
   "cell_type": "code",
   "execution_count": 13,
   "id": "68e52f98",
   "metadata": {},
   "outputs": [
    {
     "name": "stdout",
     "output_type": "stream",
     "text": [
      "酒類:神仙水\n",
      "主食:戰斧豬排\n",
      "甜點:仰望星空\n"
     ]
    }
   ],
   "source": [
    "#引述名稱呼叫\n",
    "menu(entree='戰斧豬排', wine='神仙水', dessert='仰望星空')"
   ]
  },
  {
   "cell_type": "code",
   "execution_count": 14,
   "id": "e7ac1f6d",
   "metadata": {},
   "outputs": [
    {
     "name": "stdout",
     "output_type": "stream",
     "text": [
      "酒類:神仙水\n",
      "主食:戰斧豬排\n",
      "甜點:仰望星空\n"
     ]
    }
   ],
   "source": [
    "# 混合呼叫\n",
    "# 前面必須是引述位置呼叫\n",
    "# 後面是引述名稱呼叫\n",
    "# 使用引述名稱呼叫後,後面全部都要用引述名稱呼叫\n",
    "\n",
    "menu('神仙水',dessert='仰望星空',entree='戰斧豬排')"
   ]
  },
  {
   "cell_type": "code",
   "execution_count": 15,
   "id": "1f9c9ac3",
   "metadata": {},
   "outputs": [],
   "source": [
    "# 參數有default值\n",
    "# 必須放在最後面\n",
    "\n",
    "def menu(wine, entree, dessert='奶昔'):\n",
    "    print(f\"酒類:{wine}\")\n",
    "    print(f\"主食:{entree}\")\n",
    "    print(f\"甜點:{dessert}\")"
   ]
  },
  {
   "cell_type": "code",
   "execution_count": 16,
   "id": "ffad81ff",
   "metadata": {},
   "outputs": [
    {
     "name": "stdout",
     "output_type": "stream",
     "text": [
      "酒類:神仙水\n",
      "主食:戰斧豬排\n",
      "甜點:奶昔\n"
     ]
    }
   ],
   "source": [
    "menu('神仙水', '戰斧豬排')"
   ]
  },
  {
   "cell_type": "code",
   "execution_count": 18,
   "id": "26fee31d",
   "metadata": {},
   "outputs": [
    {
     "name": "stdout",
     "output_type": "stream",
     "text": [
      "酒類:神仙水\n",
      "主食:戰斧豬排\n",
      "甜點:sugar_daddy\n"
     ]
    }
   ],
   "source": [
    "menu('神仙水','戰斧豬排',dessert='sugar_daddy')"
   ]
  },
  {
   "cell_type": "code",
   "execution_count": 35,
   "id": "0d9fa8e6",
   "metadata": {},
   "outputs": [
    {
     "name": "stdout",
     "output_type": "stream",
     "text": [
      "()\n",
      "=======\n",
      "(1, 2, 3, 'a', 'b', True)\n",
      "=======\n"
     ]
    }
   ],
   "source": [
    "#有新參數使用*名稱\n",
    "def print_args(*args):\n",
    "    print(args)\n",
    "    print(\"=======\")\n",
    "\n",
    "print_args()\n",
    "print_args(1, 2, 3, 'a', 'b',True)"
   ]
  },
  {
   "cell_type": "code",
   "execution_count": 30,
   "id": "fba8244d",
   "metadata": {},
   "outputs": [
    {
     "name": "stdout",
     "output_type": "stream",
     "text": [
      "{'one': 1, 'two': 2, 'three': 3, 'four': 4, 'five': 5}\n",
      "============\n",
      "{}\n",
      "============\n"
     ]
    }
   ],
   "source": [
    "#有**的參數\n",
    "#沒有限定數量的引數名稱呼叫\n",
    "\n",
    "def print_kwargs(**kwargs):\n",
    "    print(kwargs)\n",
    "    print(\"============\")\n",
    "\n",
    "print_kwargs(one=1, two=2, three=3, four=4, five=5)\n",
    "print_kwargs()"
   ]
  }
 ],
 "metadata": {
  "kernelspec": {
   "display_name": "base",
   "language": "python",
   "name": "python3"
  },
  "language_info": {
   "codemirror_mode": {
    "name": "ipython",
    "version": 3
   },
   "file_extension": ".py",
   "mimetype": "text/x-python",
   "name": "python",
   "nbconvert_exporter": "python",
   "pygments_lexer": "ipython3",
   "version": "3.13.2"
  }
 },
 "nbformat": 4,
 "nbformat_minor": 5
}
