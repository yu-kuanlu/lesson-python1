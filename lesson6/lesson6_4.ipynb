{
 "cells": [
  {
   "cell_type": "code",
   "execution_count": 1,
   "id": "9562c7c9",
   "metadata": {},
   "outputs": [
    {
     "name": "stdout",
     "output_type": "stream",
     "text": [
      "\n",
      "1 3 5 7 9 a cTrue\n",
      "1-3-5-7-9-a-c-True\n",
      "1-3-5-7-9-a-c-True\n"
     ]
    }
   ],
   "source": [
    "print()\n",
    "print(1, 3, 5, 7, 9, 'a', 'c' 'True')\n",
    "print(1, 3, 5, 7, 9, 'a', 'c', 'True',sep='-',end='\\n')\n",
    "print(1, 3, 5, 7, 9, 'a', 'c', 'True',end='\\n',sep='-')"
   ]
  }
 ],
 "metadata": {
  "kernelspec": {
   "display_name": "base",
   "language": "python",
   "name": "python3"
  },
  "language_info": {
   "codemirror_mode": {
    "name": "ipython",
    "version": 3
   },
   "file_extension": ".py",
   "mimetype": "text/x-python",
   "name": "python",
   "nbconvert_exporter": "python",
   "pygments_lexer": "ipython3",
   "version": "3.13.2"
  }
 },
 "nbformat": 4,
 "nbformat_minor": 5
}
