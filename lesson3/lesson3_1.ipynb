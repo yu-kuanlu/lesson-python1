{
 "cells": [
  {
   "cell_type": "code",
   "execution_count": 1,
   "id": "a964daf0",
   "metadata": {},
   "outputs": [
    {
     "name": "stdout",
     "output_type": "stream",
     "text": [
      "hi\n"
     ]
    }
   ],
   "source": [
    "print(\"hi\")"
   ]
  },
  {
   "cell_type": "code",
   "execution_count": 2,
   "id": "ce9293fe",
   "metadata": {},
   "outputs": [
    {
     "ename": "SyntaxError",
     "evalue": "unterminated string literal (detected at line 7) (3848959854.py, line 7)",
     "output_type": "error",
     "traceback": [
      "  \u001b[36mCell\u001b[39m\u001b[36m \u001b[39m\u001b[32mIn[2]\u001b[39m\u001b[32m, line 7\u001b[39m\n\u001b[31m    \u001b[39m\u001b[31mside = int (請輸入對邊\"))\u001b[39m\n                     ^\n\u001b[31mSyntaxError\u001b[39m\u001b[31m:\u001b[39m unterminated string literal (detected at line 7)\n"
     ]
    }
   ],
   "source": [
    "#讓使用者輸入直角三角形的對邊\n",
    "#讓使用者輸入直角三角形的鄰邊\n",
    "#計算斜邊\n",
    "\n",
    "import math\n",
    "\n",
    "side = int (請輸入對邊\"))\n",
    "another_side = int(input(\"請輸入鄰邊\")\n",
    "\n",
    "result = math.sqrt(side ** 2 + another_side ** 2)\n",
    "\n",
    "print(\"斜邊是:\",result)"
   ]
  },
  {
   "cell_type": "code",
   "execution_count": 3,
   "id": "5133971f",
   "metadata": {},
   "outputs": [
    {
     "name": "stdout",
     "output_type": "stream",
     "text": [
      "斜邊是: 5.0\n"
     ]
    }
   ],
   "source": [
    "# 讓使用者輸入直角三角形的對邊\n",
    "# 讓使用者輸入直角三角形的鄰邊\n",
    "# 計算斜邊\n",
    "\n",
    "import math\n",
    "\n",
    "side = int(input(\"請輸入對邊:\"))\n",
    "another_side = int(input(\"請輸入鄰邊:\"))\n",
    "result = math.sqrt(side ** 2 + another_side ** 2)\n",
    "\n",
    "print(\"斜邊是:\",result)"
   ]
  },
  {
   "cell_type": "code",
   "execution_count": 5,
   "id": "40157175",
   "metadata": {},
   "outputs": [
    {
     "name": "stdout",
     "output_type": "stream",
     "text": [
      "斜邊是: 6.4031242374328485\n"
     ]
    }
   ],
   "source": [
    "#讓使用者輸入直角三角形的對邊\n",
    "#讓使用者輸入直角三角形的鄰邊\n",
    "#計算斜邊\n",
    "\n",
    "import math\n",
    "\n",
    "side = int (input(\"請輸入對邊\"))\n",
    "another_side = int(input(\"請輸入鄰邊\"))\n",
    "\n",
    "result = math.sqrt(side ** 2 + another_side ** 2)\n",
    "\n",
    "print(\"斜邊是:\",result)"
   ]
  },
  {
   "cell_type": "code",
   "execution_count": 6,
   "id": "d684a75e",
   "metadata": {},
   "outputs": [
    {
     "name": "stdout",
     "output_type": "stream",
     "text": [
      "10\n"
     ]
    }
   ],
   "source": [
    "#複合指定運算子\n",
    "\n",
    "n = 5\n",
    "n = n + 5\n",
    "\n",
    "print(n)"
   ]
  },
  {
   "cell_type": "code",
   "execution_count": 7,
   "id": "5a0e8789",
   "metadata": {},
   "outputs": [
    {
     "name": "stdout",
     "output_type": "stream",
     "text": [
      "10\n"
     ]
    }
   ],
   "source": [
    "#複合指定運算子\n",
    "\n",
    "n = 5\n",
    "n += 5\n",
    "\n",
    "print(n)"
   ]
  },
  {
   "cell_type": "code",
   "execution_count": 8,
   "id": "41541bd2",
   "metadata": {},
   "outputs": [
    {
     "name": "stdout",
     "output_type": "stream",
     "text": [
      "100\n"
     ]
    }
   ],
   "source": [
    "#複合指定運算子\n",
    "\n",
    "n = 5\n",
    "n += 5\n",
    "n *=10\n",
    "\n",
    "print(n)"
   ]
  },
  {
   "cell_type": "code",
   "execution_count": null,
   "id": "6d51712a",
   "metadata": {},
   "outputs": [],
   "source": [
    "## 這是標題\n",
    "### 這是次標題\n",
    "\n",
    "-這是項目符號\n",
    "\n",
    "-這是項目編號\n",
    "\n",
    "'''python\n",
    "print(\"hello world\")"
   ]
  },
  {
   "cell_type": "code",
   "execution_count": 9,
   "id": "6aa11d0c",
   "metadata": {},
   "outputs": [
    {
     "data": {
      "text/plain": [
       "'=================================================='"
      ]
     },
     "execution_count": 9,
     "metadata": {},
     "output_type": "execute_result"
    }
   ],
   "source": [
    "# 字串可以使用的數學運算子(+,*)\n",
    "\n",
    "\"我的姓名:\" + \"robert\"\n",
    "\"=\" * 50"
   ]
  },
  {
   "cell_type": "code",
   "execution_count": 10,
   "id": "21b514b7",
   "metadata": {},
   "outputs": [
    {
     "name": "stdout",
     "output_type": "stream",
     "text": [
      "我的姓名:Yu_Kuan_Lu\n",
      "==================================================\n"
     ]
    }
   ],
   "source": [
    "# 字串可以使用的數學運算子(+,*)\n",
    "\n",
    "print(\"我的姓名:\" + \"Yu_Kuan_Lu\")\n",
    "print(\"=\" * 50)"
   ]
  },
  {
   "cell_type": "code",
   "execution_count": 11,
   "id": "2240f9f6",
   "metadata": {},
   "outputs": [
    {
     "data": {
      "text/plain": [
       "'我的個人資料:\\n姓名:\\t宇冠盧\\n性別:\\t男'"
      ]
     },
     "execution_count": 11,
     "metadata": {},
     "output_type": "execute_result"
    }
   ],
   "source": [
    "# 字串的特別符號\n",
    "#\\n ->換行\n",
    "#\\t ->tab\n",
    "\n",
    "\"我的個人資料:\\n姓名:\\t宇冠盧\\n性別:\\t男\""
   ]
  },
  {
   "cell_type": "code",
   "execution_count": 12,
   "id": "44b350cf",
   "metadata": {},
   "outputs": [
    {
     "name": "stdout",
     "output_type": "stream",
     "text": [
      "我的個人資料:\n",
      "姓名:\t宇冠盧\n",
      "性別:\t男\n"
     ]
    }
   ],
   "source": [
    "# 字串的特別符號\n",
    "#\\n ->換行\n",
    "#\\t ->tab\n",
    "\n",
    "print(\"我的個人資料:\\n姓名:\\t宇冠盧\\n性別:\\t男\")"
   ]
  },
  {
   "cell_type": "code",
   "execution_count": 13,
   "id": "d94bc471",
   "metadata": {},
   "outputs": [
    {
     "data": {
      "text/plain": [
       "'\\n我的個人資料:\\n姓名:\\t宇冠盧\\n性別:\\t男\\n'"
      ]
     },
     "execution_count": 13,
     "metadata": {},
     "output_type": "execute_result"
    }
   ],
   "source": [
    "# 多行文字\n",
    "'''\n",
    "我的個人資料:\n",
    "姓名:\t宇冠盧\n",
    "性別:\t男\n",
    "'''"
   ]
  },
  {
   "cell_type": "code",
   "execution_count": 14,
   "id": "4777e267",
   "metadata": {},
   "outputs": [
    {
     "data": {
      "text/plain": [
       "'我的個人資料:\\n姓名:\\t宇冠盧\\n性別:\\t男'"
      ]
     },
     "execution_count": 14,
     "metadata": {},
     "output_type": "execute_result"
    }
   ],
   "source": [
    "# 多行文字\n",
    "'''我的個人資料:\n",
    "姓名:\t宇冠盧\n",
    "性別:\t男'''"
   ]
  },
  {
   "cell_type": "code",
   "execution_count": 15,
   "id": "52d06b56",
   "metadata": {},
   "outputs": [
    {
     "name": "stdout",
     "output_type": "stream",
     "text": [
      "我的個人資料:\n",
      "姓名:\t宇冠盧\n",
      "性別:\t男\n"
     ]
    }
   ],
   "source": [
    "# 多行文字\n",
    "info = '''我的個人資料:\n",
    "姓名:\t宇冠盧\n",
    "性別:\t男'''\n",
    "\n",
    "print(info)"
   ]
  },
  {
   "cell_type": "code",
   "execution_count": 16,
   "id": "ff3ac0af",
   "metadata": {},
   "outputs": [
    {
     "ename": "TypeError",
     "evalue": "can only concatenate str (not \"int\") to str",
     "output_type": "error",
     "traceback": [
      "\u001b[31m---------------------------------------------------------------------------\u001b[39m",
      "\u001b[31mTypeError\u001b[39m                                 Traceback (most recent call last)",
      "\u001b[36mCell\u001b[39m\u001b[36m \u001b[39m\u001b[32mIn[16]\u001b[39m\u001b[32m, line 6\u001b[39m\n\u001b[32m      3\u001b[39m apple = \u001b[32m6\u001b[39m\n\u001b[32m      4\u001b[39m banana = \u001b[32m4\u001b[39m\n\u001b[32m----> \u001b[39m\u001b[32m6\u001b[39m \u001b[33;43m\"\u001b[39;49m\u001b[33;43m我有水果\u001b[39;49m\u001b[33;43m\"\u001b[39;49m\u001b[43m \u001b[49m\u001b[43m+\u001b[49m\u001b[43m \u001b[49m\u001b[43mfruits\u001b[49m\n",
      "\u001b[31mTypeError\u001b[39m: can only concatenate str (not \"int\") to str"
     ]
    }
   ],
   "source": [
    "# 字串和數值變數的整合\n",
    "fruits = 10\n",
    "apple = 6\n",
    "banana = 4\n",
    "\n",
    "\"我有水果\" + fruits"
   ]
  },
  {
   "cell_type": "code",
   "execution_count": 20,
   "id": "5d66e636",
   "metadata": {},
   "outputs": [
    {
     "name": "stdout",
     "output_type": "stream",
     "text": [
      "我有水果10個蘋果:6顆,香蕉:4根,\n"
     ]
    }
   ],
   "source": [
    "# 字串和數值變數的整合\n",
    "fruits = 10\n",
    "apple = 6\n",
    "banana = 4\n",
    "\n",
    "result= \"我有水果\" + str(fruits) + \"個蘋果:\" + str(apple) + \"顆,香蕉:\" + str(banana) + \"根,\"\n",
    "print(result)"
   ]
  },
  {
   "cell_type": "code",
   "execution_count": 23,
   "id": "0952c29c",
   "metadata": {},
   "outputs": [
    {
     "name": "stdout",
     "output_type": "stream",
     "text": [
      "我有水果10個,蘋果:7顆,香蕉:3根.\n"
     ]
    }
   ],
   "source": [
    "# 字串和數值變數的整合\n",
    "# 利用複合指定運算子\n",
    "fruits = 10\n",
    "apple = 7\n",
    "banana = 3\n",
    "\n",
    "result = \"\"\n",
    "\n",
    "result += \"我有水果\" \n",
    "result += str(fruits) \n",
    "result += \"個,蘋果:\"\n",
    "result += str(apple) \n",
    "result += \"顆,香蕉:\" \n",
    "result += str(banana) \n",
    "result += \"根.\"\n",
    "\n",
    "print(result)"
   ]
  },
  {
   "cell_type": "code",
   "execution_count": 24,
   "id": "30de0388",
   "metadata": {},
   "outputs": [
    {
     "name": "stdout",
     "output_type": "stream",
     "text": [
      "我有水果10個,蘋果:7顆,香蕉:3根\n"
     ]
    }
   ],
   "source": [
    "# 字串和數值變數的整合\n",
    "# 格式化字串(字串插補)\n",
    "fruits = 10\n",
    "apple = 7\n",
    "banana = 3\n",
    "\n",
    "result = f\"我有水果{fruits}個,蘋果:{apple}顆,香蕉:{banana}根\"\n",
    "\n",
    "print(result)"
   ]
  }
 ],
 "metadata": {
  "kernelspec": {
   "display_name": "base",
   "language": "python",
   "name": "python3"
  },
  "language_info": {
   "codemirror_mode": {
    "name": "ipython",
    "version": 3
   },
   "file_extension": ".py",
   "mimetype": "text/x-python",
   "name": "python",
   "nbconvert_exporter": "python",
   "pygments_lexer": "ipython3",
   "version": "3.13.2"
  }
 },
 "nbformat": 4,
 "nbformat_minor": 5
}
