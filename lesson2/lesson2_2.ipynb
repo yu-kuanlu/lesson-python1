{
 "cells": [
  {
   "cell_type": "code",
   "execution_count": 1,
   "id": "e9c7dd8d",
   "metadata": {},
   "outputs": [
    {
     "name": "stdout",
     "output_type": "stream",
     "text": [
      "hi python\n"
     ]
    }
   ],
   "source": [
    "print(\"hi python\")"
   ]
  },
  {
   "cell_type": "code",
   "execution_count": 2,
   "id": "c6c8f8b0",
   "metadata": {},
   "outputs": [
    {
     "name": "stdout",
     "output_type": "stream",
     "text": [
      "461.5\n"
     ]
    }
   ],
   "source": [
    "#矩形面積\n",
    "width = 32.5\n",
    "hight = 14.2\n",
    "area = width * hight\n",
    "print(area)"
   ]
  }
 ],
 "metadata": {
  "kernelspec": {
   "display_name": "base",
   "language": "python",
   "name": "python3"
  },
  "language_info": {
   "codemirror_mode": {
    "name": "ipython",
    "version": 3
   },
   "file_extension": ".py",
   "mimetype": "text/x-python",
   "name": "python",
   "nbconvert_exporter": "python",
   "pygments_lexer": "ipython3",
   "version": "3.13.2"
  }
 },
 "nbformat": 4,
 "nbformat_minor": 5
}
