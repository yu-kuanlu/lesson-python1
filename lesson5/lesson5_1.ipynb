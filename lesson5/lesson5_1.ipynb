{
 "cells": [
  {
   "cell_type": "code",
   "execution_count": 2,
   "id": "3f134706",
   "metadata": {},
   "outputs": [
    {
     "name": "stdout",
     "output_type": "stream",
     "text": [
      "'獎金:1000\n"
     ]
    }
   ],
   "source": [
    "# 國文分數和數學分數\n",
    "# 如果同100分,獎金1000元\n",
    "# 如果一科100分,獎金500元\n",
    "# 其他的0元\n",
    "\n",
    "chinese = int(input(\"請輸入國文分數:\"))\n",
    "math = int(input(\"請輸入數學分數:\"))\n",
    "\n",
    "# 巢狀判斷(解決方式)\n",
    "bonus = 0\n",
    "if chinese == 100:\n",
    "\tif math == 100:\n",
    "\t\tbonus = 1000\n",
    "\telse:\n",
    "\t\tbonus = 500\n",
    "else:\n",
    "\tif math == 100:\n",
    "\t\tbonus = 500\n",
    "print(f\"'獎金:{bonus}\")"
   ]
  },
  {
   "cell_type": "code",
   "execution_count": 5,
   "id": "3ae5342a",
   "metadata": {},
   "outputs": [
    {
     "name": "stdout",
     "output_type": "stream",
     "text": [
      "'獎金:500\n"
     ]
    }
   ],
   "source": [
    "# 國文分數和數學分數\n",
    "# 如果同100分,獎金1000元\n",
    "# 如果一科100分,獎金500元\n",
    "# 其他的0元\n",
    "\n",
    "chinese = int(input(\"請輸入國文分數:\"))\n",
    "math = int(input(\"請輸入數學分數:\"))\n",
    "\n",
    "# 邏輯運算子\n",
    "bonus = 0\n",
    "if chinese == 100 and math ==100:\n",
    "\tbonus = 1000\n",
    "elif chinese == 100 or math == 100:\n",
    "\tbonus = 500\n",
    "\n",
    "print(f\"'獎金:{bonus}\")"
   ]
  }
 ],
 "metadata": {
  "kernelspec": {
   "display_name": "base",
   "language": "python",
   "name": "python3"
  },
  "language_info": {
   "codemirror_mode": {
    "name": "ipython",
    "version": 3
   },
   "file_extension": ".py",
   "mimetype": "text/x-python",
   "name": "python",
   "nbconvert_exporter": "python",
   "pygments_lexer": "ipython3",
   "version": "3.13.2"
  }
 },
 "nbformat": 4,
 "nbformat_minor": 5
}
