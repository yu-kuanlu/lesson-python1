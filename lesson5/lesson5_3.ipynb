{
 "cells": [
  {
   "cell_type": "code",
   "execution_count": null,
   "id": "564f4e72",
   "metadata": {},
   "outputs": [
    {
     "name": "stdout",
     "output_type": "stream",
     "text": [
      "你可以去追風了,存夠130000了\n"
     ]
    }
   ],
   "source": [
    "#鄧不利多想要存錢買飛天掃帚,飛天掃帚要100000元,他將每個月存的金額輸入,當存款足夠時,顯示訊息告知\n",
    "\n",
    "deposit = 0\n",
    "while deposit < 100000:\n",
    "\tinputNum = int(input('請輸入本月存款金額:'))\n",
    "\tdeposit += inputNum\n",
    "\n",
    "print(f\"去追風吧騷年,存夠{deposit}了\")"
   ]
  },
  {
   "cell_type": "code",
   "execution_count": 5,
   "id": "62b0c9bd",
   "metadata": {},
   "outputs": [
    {
     "name": "stdout",
     "output_type": "stream",
     "text": [
      "你可以去追風了,存了5個月,才終於存滿100000元\n"
     ]
    }
   ],
   "source": [
    "#鄧不利多想要存錢買飛天掃帚,飛天掃帚要100000元,他將每個月存的金額輸入,當存款足夠時,顯示訊息告知\n",
    "\n",
    "deposit = 0\n",
    "num = 0\n",
    "while deposit < 100000:\n",
    "\tnum += 1\n",
    "\tinputNum = int(input(f'請輸入第{num}個月的存款金額:'))\n",
    "\tdeposit += inputNum\n",
    "\n",
    "print(f\"你可以去追風了,存了{num}個月,才終於存滿{deposit}元\")"
   ]
  },
  {
   "cell_type": "code",
   "execution_count": 8,
   "id": "849ffc14",
   "metadata": {},
   "outputs": [
    {
     "ename": "NameError",
     "evalue": "name 'Ture' is not defined",
     "output_type": "error",
     "traceback": [
      "\u001b[31m---------------------------------------------------------------------------\u001b[39m",
      "\u001b[31mNameError\u001b[39m                                 Traceback (most recent call last)",
      "\u001b[36mCell\u001b[39m\u001b[36m \u001b[39m\u001b[32mIn[8]\u001b[39m\u001b[32m, line 5\u001b[39m\n\u001b[32m      3\u001b[39m deposit = \u001b[32m0\u001b[39m\n\u001b[32m      4\u001b[39m num = \u001b[32m0\u001b[39m\n\u001b[32m----> \u001b[39m\u001b[32m5\u001b[39m \u001b[38;5;28;01mwhile\u001b[39;00m \u001b[43mTure\u001b[49m:\n\u001b[32m      6\u001b[39m \tnum += \u001b[32m1\u001b[39m\n\u001b[32m      7\u001b[39m \tinputNum = \u001b[38;5;28mint\u001b[39m(\u001b[38;5;28minput\u001b[39m(\u001b[33mf\u001b[39m\u001b[33m'\u001b[39m\u001b[33m請輸入第\u001b[39m\u001b[38;5;132;01m{\u001b[39;00mnum\u001b[38;5;132;01m}\u001b[39;00m\u001b[33m個月的存款金額:\u001b[39m\u001b[33m'\u001b[39m))\n",
      "\u001b[31mNameError\u001b[39m: name 'Ture' is not defined"
     ]
    }
   ],
   "source": [
    "#鄧不利多想要存錢買飛天掃帚,飛天掃帚要100000元,他將每個月存的金額輸入,當存款足夠時,顯示訊息告知\n",
    "\n",
    "deposit = 0\n",
    "num = 0\n",
    "while Ture:\n",
    "\tnum += 1\n",
    "\tinputNum = int(input(f'請輸入第{num}個月的存款金額:'))\n",
    "\tdeposit += inputNum\n",
    "\tif deposit >= 100000:\n",
    "\t\tbreak\n",
    "\n",
    "print(f\"你可以去追風了,存了{num}月,共存{deposit}元\")"
   ]
  },
  {
   "cell_type": "code",
   "execution_count": null,
   "id": "39af8235",
   "metadata": {},
   "outputs": [],
   "source": [
    "# 小明想要存錢買一輛機車，機車每輛30000元，他將每月存的錢輸入，當存款足夠買機車時，就顯示提示訊息告知。\n",
    "deposit = 0\n",
    "num = 0\n",
    "while True:\n",
    "    num += 1\n",
    "    inputNum = int(input(f'請輸入第{num}個月份的存款:'))\n",
    "    deposit += inputNum\n",
    "    if deposit >= 30000:\n",
    "        break\n",
    "\n",
    "print(f\"恭喜!已經存夠了，存了{num}月,共存了{deposit}元\")\n"
   ]
  },
  {
   "cell_type": "code",
   "execution_count": 14,
   "id": "31ef2b58",
   "metadata": {},
   "outputs": [
    {
     "name": "stdout",
     "output_type": "stream",
     "text": [
      "輸入的次數是6,所有輸入的正偶數的加總是:12\n"
     ]
    }
   ],
   "source": [
    "# 請設計一個程式，讓使用者輸入數值，只有加總正偶數值，不加總正奇數值，如果輸入負數，結束程式。\n",
    "\n",
    "sum = 0\n",
    "num = 0\n",
    "while True:\n",
    "    input_value = int(input(f\"請輸入第{num+1}個數值\"))\n",
    "    if input_value < 0:\n",
    "        break\n",
    "    num += 1\n",
    "    if input_value % 2 == 1:\n",
    "        continue\n",
    "    sum += input_value\n",
    "\n",
    "print(f\"輸入的次數是{num},所有輸入的正偶數的加總是:{sum}\")"
   ]
  },
  {
   "cell_type": "code",
   "execution_count": 24,
   "id": "b800f491",
   "metadata": {},
   "outputs": [
    {
     "name": "stdout",
     "output_type": "stream",
     "text": [
      "0.7801435693478741\n",
      "2\n",
      "4.745266385719008\n"
     ]
    }
   ],
   "source": [
    "import random\n",
    "\n",
    "print(random.random())\n",
    "print(random.randint(1,10))\n",
    "print(random.uniform(1.1,5.4))"
   ]
  }
 ],
 "metadata": {
  "kernelspec": {
   "display_name": "base",
   "language": "python",
   "name": "python3"
  },
  "language_info": {
   "codemirror_mode": {
    "name": "ipython",
    "version": 3
   },
   "file_extension": ".py",
   "mimetype": "text/x-python",
   "name": "python",
   "nbconvert_exporter": "python",
   "pygments_lexer": "ipython3",
   "version": "3.13.2"
  }
 },
 "nbformat": 4,
 "nbformat_minor": 5
}
