{
 "cells": [
  {
   "cell_type": "code",
   "execution_count": 1,
   "id": "96e0e60b",
   "metadata": {},
   "outputs": [
    {
     "data": {
      "text/plain": [
       "55"
      ]
     },
     "execution_count": 1,
     "metadata": {},
     "output_type": "execute_result"
    }
   ],
   "source": [
    "total = 0\n",
    "total += 1\n",
    "total += 2\n",
    "total += 3\n",
    "total += 4\n",
    "total += 5\n",
    "total += 6\n",
    "total += 7\n",
    "total += 8\n",
    "total += 9\n",
    "total += 10\n",
    "\n",
    "total"
   ]
  },
  {
   "cell_type": "code",
   "execution_count": null,
   "id": "0839cce2",
   "metadata": {},
   "outputs": [
    {
     "data": {
      "text/plain": [
       "55"
      ]
     },
     "execution_count": 2,
     "metadata": {},
     "output_type": "execute_result"
    }
   ],
   "source": [
    "total = 0\n",
    "for n in range(1,11):\n",
    "\ttotal += n\n",
    "\n",
    "total\n"
   ]
  },
  {
   "cell_type": "code",
   "execution_count": null,
   "id": "ca9a71e6",
   "metadata": {},
   "outputs": [
    {
     "data": {
      "text/plain": [
       "5050"
      ]
     },
     "execution_count": 3,
     "metadata": {},
     "output_type": "execute_result"
    }
   ],
   "source": [
    "total = 0\n",
    "for n in range(1,101):\n",
    "\ttotal += n\n",
    "\n",
    "total\n"
   ]
  },
  {
   "cell_type": "code",
   "execution_count": null,
   "id": "2b44ea4b",
   "metadata": {},
   "outputs": [
    {
     "data": {
      "text/plain": [
       "[0, 1, 2, 3, 4, 5, 6, 7, 8, 9]"
      ]
     },
     "execution_count": 8,
     "metadata": {},
     "output_type": "execute_result"
    }
   ],
   "source": [
    "#使用說明\n",
    "# for in 迴圈\n",
    "list(range(10))"
   ]
  },
  {
   "cell_type": "code",
   "execution_count": null,
   "id": "a8745910",
   "metadata": {},
   "outputs": [
    {
     "data": {
      "text/plain": [
       "[1, 2, 3, 4, 5, 6, 7, 8, 9, 10]"
      ]
     },
     "execution_count": 10,
     "metadata": {},
     "output_type": "execute_result"
    }
   ],
   "source": [
    "#使用說明\n",
    "# for in 迴圈\n",
    "list(range(1,11))"
   ]
  },
  {
   "cell_type": "code",
   "execution_count": null,
   "id": "629ed9d3",
   "metadata": {},
   "outputs": [
    {
     "data": {
      "text/plain": [
       "[1, 3, 5, 7, 9]"
      ]
     },
     "execution_count": 11,
     "metadata": {},
     "output_type": "execute_result"
    }
   ],
   "source": [
    "#使用說明\n",
    "# for in 迴圈\n",
    "list(range(1,11,2))"
   ]
  },
  {
   "cell_type": "code",
   "execution_count": 12,
   "id": "d8f6de94",
   "metadata": {},
   "outputs": [
    {
     "name": "stdout",
     "output_type": "stream",
     "text": [
      "1\n",
      "2\n",
      "3\n",
      "4\n",
      "5\n",
      "6\n",
      "7\n",
      "8\n",
      "9\n"
     ]
    }
   ],
   "source": [
    "for i in range(1,10):\n",
    "\tprint(i)"
   ]
  },
  {
   "cell_type": "code",
   "execution_count": 13,
   "id": "a4a7f1d7",
   "metadata": {},
   "outputs": [
    {
     "name": "stdout",
     "output_type": "stream",
     "text": [
      "i=1\n",
      "j=1\n",
      "j=2\n",
      "j=3\n",
      "j=4\n",
      "j=5\n",
      "j=6\n",
      "j=7\n",
      "j=8\n",
      "j=9\n",
      "i=2\n",
      "j=1\n",
      "j=2\n",
      "j=3\n",
      "j=4\n",
      "j=5\n",
      "j=6\n",
      "j=7\n",
      "j=8\n",
      "j=9\n",
      "i=3\n",
      "j=1\n",
      "j=2\n",
      "j=3\n",
      "j=4\n",
      "j=5\n",
      "j=6\n",
      "j=7\n",
      "j=8\n",
      "j=9\n",
      "i=4\n",
      "j=1\n",
      "j=2\n",
      "j=3\n",
      "j=4\n",
      "j=5\n",
      "j=6\n",
      "j=7\n",
      "j=8\n",
      "j=9\n",
      "i=5\n",
      "j=1\n",
      "j=2\n",
      "j=3\n",
      "j=4\n",
      "j=5\n",
      "j=6\n",
      "j=7\n",
      "j=8\n",
      "j=9\n",
      "i=6\n",
      "j=1\n",
      "j=2\n",
      "j=3\n",
      "j=4\n",
      "j=5\n",
      "j=6\n",
      "j=7\n",
      "j=8\n",
      "j=9\n",
      "i=7\n",
      "j=1\n",
      "j=2\n",
      "j=3\n",
      "j=4\n",
      "j=5\n",
      "j=6\n",
      "j=7\n",
      "j=8\n",
      "j=9\n",
      "i=8\n",
      "j=1\n",
      "j=2\n",
      "j=3\n",
      "j=4\n",
      "j=5\n",
      "j=6\n",
      "j=7\n",
      "j=8\n",
      "j=9\n",
      "i=9\n",
      "j=1\n",
      "j=2\n",
      "j=3\n",
      "j=4\n",
      "j=5\n",
      "j=6\n",
      "j=7\n",
      "j=8\n",
      "j=9\n"
     ]
    }
   ],
   "source": [
    "#巢狀迴圈\n",
    "\n",
    "for i in range(1,10):\n",
    "\tprint(f\"i={i}\")\n",
    "\tfor j in range(1,10):\n",
    "\t\tprint(f\"j={j}\")"
   ]
  },
  {
   "cell_type": "code",
   "execution_count": 14,
   "id": "3000c8cc",
   "metadata": {},
   "outputs": [
    {
     "name": "stdout",
     "output_type": "stream",
     "text": [
      "i=1\n",
      "j=1 j=2 j=3 j=4 j=5 j=6 j=7 j=8 j=9 i=2\n",
      "j=1 j=2 j=3 j=4 j=5 j=6 j=7 j=8 j=9 i=3\n",
      "j=1 j=2 j=3 j=4 j=5 j=6 j=7 j=8 j=9 i=4\n",
      "j=1 j=2 j=3 j=4 j=5 j=6 j=7 j=8 j=9 i=5\n",
      "j=1 j=2 j=3 j=4 j=5 j=6 j=7 j=8 j=9 i=6\n",
      "j=1 j=2 j=3 j=4 j=5 j=6 j=7 j=8 j=9 i=7\n",
      "j=1 j=2 j=3 j=4 j=5 j=6 j=7 j=8 j=9 i=8\n",
      "j=1 j=2 j=3 j=4 j=5 j=6 j=7 j=8 j=9 i=9\n",
      "j=1 j=2 j=3 j=4 j=5 j=6 j=7 j=8 j=9 "
     ]
    }
   ],
   "source": [
    "#巢狀迴圈\n",
    "\n",
    "for i in range(1,10):\n",
    "\tprint(f\"i={i}\")\n",
    "\tfor j in range(1,10):\n",
    "\t\tprint(f\"j={j}\",end =\" \")"
   ]
  },
  {
   "cell_type": "code",
   "execution_count": 15,
   "id": "ae4654a0",
   "metadata": {},
   "outputs": [
    {
     "name": "stdout",
     "output_type": "stream",
     "text": [
      "i=1\n",
      "j=1 j=2 j=3 j=4 j=5 j=6 j=7 j=8 j=9 \n",
      "i=2\n",
      "j=1 j=2 j=3 j=4 j=5 j=6 j=7 j=8 j=9 \n",
      "i=3\n",
      "j=1 j=2 j=3 j=4 j=5 j=6 j=7 j=8 j=9 \n",
      "i=4\n",
      "j=1 j=2 j=3 j=4 j=5 j=6 j=7 j=8 j=9 \n",
      "i=5\n",
      "j=1 j=2 j=3 j=4 j=5 j=6 j=7 j=8 j=9 \n",
      "i=6\n",
      "j=1 j=2 j=3 j=4 j=5 j=6 j=7 j=8 j=9 \n",
      "i=7\n",
      "j=1 j=2 j=3 j=4 j=5 j=6 j=7 j=8 j=9 \n",
      "i=8\n",
      "j=1 j=2 j=3 j=4 j=5 j=6 j=7 j=8 j=9 \n",
      "i=9\n",
      "j=1 j=2 j=3 j=4 j=5 j=6 j=7 j=8 j=9 \n"
     ]
    }
   ],
   "source": [
    "#巢狀迴圈\n",
    "\n",
    "for i in range(1,10):\n",
    "\tprint(f\"i={i}\")\n",
    "\tfor j in range(1,10):\n",
    "\t\tprint(f\"j={j}\",end =\" \")\n",
    "\tprint()"
   ]
  },
  {
   "cell_type": "code",
   "execution_count": null,
   "id": "f467568c",
   "metadata": {},
   "outputs": [
    {
     "name": "stdout",
     "output_type": "stream",
     "text": [
      "i=1\n",
      "j=1 j=2 j=3 j=4 j=5 j=6 j=7 j=8 j=9 \n",
      "==================================================\n",
      "i=2\n",
      "j=1 j=2 j=3 j=4 j=5 j=6 j=7 j=8 j=9 \n",
      "==================================================\n",
      "i=3\n",
      "j=1 j=2 j=3 j=4 j=5 j=6 j=7 j=8 j=9 \n",
      "==================================================\n",
      "i=4\n",
      "j=1 j=2 j=3 j=4 j=5 j=6 j=7 j=8 j=9 \n",
      "==================================================\n",
      "i=5\n",
      "j=1 j=2 j=3 j=4 j=5 j=6 j=7 j=8 j=9 \n",
      "==================================================\n",
      "i=6\n",
      "j=1 j=2 j=3 j=4 j=5 j=6 j=7 j=8 j=9 \n",
      "==================================================\n",
      "i=7\n",
      "j=1 j=2 j=3 j=4 j=5 j=6 j=7 j=8 j=9 \n",
      "==================================================\n",
      "i=8\n",
      "j=1 j=2 j=3 j=4 j=5 j=6 j=7 j=8 j=9 \n",
      "==================================================\n",
      "i=9\n",
      "j=1 j=2 j=3 j=4 j=5 j=6 j=7 j=8 j=9 \n",
      "==================================================\n"
     ]
    }
   ],
   "source": [
    "#巢狀迴圈\n",
    "\n",
    "for i in range(1,10):\n",
    "\tprint(f\"i={i}\")\n",
    "\tfor j in range(1,10):\n",
    "\t\tprint(f\"j={j}\",end =\" \")\n",
    "\tprint()\n",
    "\tprint(\"=\" * 50) #50個=(是字串)"
   ]
  },
  {
   "cell_type": "code",
   "execution_count": 18,
   "id": "0d63a162",
   "metadata": {},
   "outputs": [
    {
     "name": "stdout",
     "output_type": "stream",
     "text": [
      "i=,1j=1 i=,1j=2 i=,1j=3 i=,1j=4 i=,1j=5 i=,1j=6 i=,1j=7 i=,1j=8 i=,1j=9 \n",
      "==================================================\n",
      "i=,2j=1 i=,2j=2 i=,2j=3 i=,2j=4 i=,2j=5 i=,2j=6 i=,2j=7 i=,2j=8 i=,2j=9 \n",
      "==================================================\n",
      "i=,3j=1 i=,3j=2 i=,3j=3 i=,3j=4 i=,3j=5 i=,3j=6 i=,3j=7 i=,3j=8 i=,3j=9 \n",
      "==================================================\n",
      "i=,4j=1 i=,4j=2 i=,4j=3 i=,4j=4 i=,4j=5 i=,4j=6 i=,4j=7 i=,4j=8 i=,4j=9 \n",
      "==================================================\n",
      "i=,5j=1 i=,5j=2 i=,5j=3 i=,5j=4 i=,5j=5 i=,5j=6 i=,5j=7 i=,5j=8 i=,5j=9 \n",
      "==================================================\n",
      "i=,6j=1 i=,6j=2 i=,6j=3 i=,6j=4 i=,6j=5 i=,6j=6 i=,6j=7 i=,6j=8 i=,6j=9 \n",
      "==================================================\n",
      "i=,7j=1 i=,7j=2 i=,7j=3 i=,7j=4 i=,7j=5 i=,7j=6 i=,7j=7 i=,7j=8 i=,7j=9 \n",
      "==================================================\n",
      "i=,8j=1 i=,8j=2 i=,8j=3 i=,8j=4 i=,8j=5 i=,8j=6 i=,8j=7 i=,8j=8 i=,8j=9 \n",
      "==================================================\n",
      "i=,9j=1 i=,9j=2 i=,9j=3 i=,9j=4 i=,9j=5 i=,9j=6 i=,9j=7 i=,9j=8 i=,9j=9 \n",
      "==================================================\n"
     ]
    }
   ],
   "source": [
    "#巢狀迴圈\n",
    "\n",
    "for i in range(1,10):\n",
    "\tfor j in range(1,10):\n",
    "\t\tprint(f\"i=,{i}j={j}\",end =\" \")\n",
    "\tprint()\n",
    "\tprint(\"=\" * 50)"
   ]
  },
  {
   "cell_type": "code",
   "execution_count": 21,
   "id": "703445e0",
   "metadata": {},
   "outputs": [
    {
     "name": "stdout",
     "output_type": "stream",
     "text": [
      "1*1=1\t1*2=2\t1*3=3\t1*4=4\t1*5=5\t1*6=6\t1*7=7\t1*8=8\t1*9=9\t\n",
      "2*1=2\t2*2=4\t2*3=6\t2*4=8\t2*5=10\t2*6=12\t2*7=14\t2*8=16\t2*9=18\t\n",
      "3*1=3\t3*2=6\t3*3=9\t3*4=12\t3*5=15\t3*6=18\t3*7=21\t3*8=24\t3*9=27\t\n",
      "4*1=4\t4*2=8\t4*3=12\t4*4=16\t4*5=20\t4*6=24\t4*7=28\t4*8=32\t4*9=36\t\n",
      "5*1=5\t5*2=10\t5*3=15\t5*4=20\t5*5=25\t5*6=30\t5*7=35\t5*8=40\t5*9=45\t\n",
      "6*1=6\t6*2=12\t6*3=18\t6*4=24\t6*5=30\t6*6=36\t6*7=42\t6*8=48\t6*9=54\t\n",
      "7*1=7\t7*2=14\t7*3=21\t7*4=28\t7*5=35\t7*6=42\t7*7=49\t7*8=56\t7*9=63\t\n",
      "8*1=8\t8*2=16\t8*3=24\t8*4=32\t8*5=40\t8*6=48\t8*7=56\t8*8=64\t8*9=72\t\n",
      "9*1=9\t9*2=18\t9*3=27\t9*4=36\t9*5=45\t9*6=54\t9*7=63\t9*8=72\t9*9=81\t\n"
     ]
    }
   ],
   "source": [
    "#巢狀迴圈\n",
    "\n",
    "for i in range(1,10):\n",
    "\tfor j in range(1,10):\n",
    "\t\tprint(f\"{i}*{j}={i*j}\",end =\"\\t\")\n",
    "\tprint()\n",
    "\n",
    "\t"
   ]
  }
 ],
 "metadata": {
  "kernelspec": {
   "display_name": "base",
   "language": "python",
   "name": "python3"
  },
  "language_info": {
   "codemirror_mode": {
    "name": "ipython",
    "version": 3
   },
   "file_extension": ".py",
   "mimetype": "text/x-python",
   "name": "python",
   "nbconvert_exporter": "python",
   "pygments_lexer": "ipython3",
   "version": "3.13.2"
  }
 },
 "nbformat": 4,
 "nbformat_minor": 5
}
