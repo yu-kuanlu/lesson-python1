{
 "cells": [
  {
   "cell_type": "code",
   "execution_count": 1,
   "id": "76b95f77",
   "metadata": {},
   "outputs": [
    {
     "name": "stdout",
     "output_type": "stream",
     "text": [
      "及格\n"
     ]
    }
   ],
   "source": [
    "scores = int(input(\"請輸入學生分數(0-100):\"))\n",
    "\n",
    "if scores >= 60:\n",
    "    print(\"及格\")\n",
    "else:\n",
    "    print(\"不及格\")"
   ]
  },
  {
   "cell_type": "code",
   "execution_count": 6,
   "id": "bb3957fc",
   "metadata": {},
   "outputs": [
    {
     "name": "stdout",
     "output_type": "stream",
     "text": [
      "勉勉強強\n"
     ]
    }
   ],
   "source": [
    "scores = int(input(\"請輸入學生分數(0-100):\"))\n",
    "\n",
    "if scores >= 90:\n",
    "    print(\"學霸\")\n",
    "else:\n",
    "    if scores >= 60:\n",
    "        print(\"勉勉強強\")\n",
    "    else:\n",
    "        print(\"砍掉重練\")"
   ]
  },
  {
   "cell_type": "code",
   "execution_count": 7,
   "id": "185e7050",
   "metadata": {},
   "outputs": [
    {
     "name": "stdout",
     "output_type": "stream",
     "text": [
      "學霸\n"
     ]
    }
   ],
   "source": [
    "scores = int(input(\"請輸入學生分數(0-100):\"))\n",
    "\n",
    "if scores >= 90:\n",
    "    print(\"學霸\")\n",
    "elif scores >= 60:\n",
    "    print(\"勉勉強強\")\n",
    "else:\n",
    "    print(\"砍掉重練\")"
   ]
  },
  {
   "cell_type": "code",
   "execution_count": 8,
   "id": "6d4ac85e",
   "metadata": {},
   "outputs": [
    {
     "name": "stdout",
     "output_type": "stream",
     "text": [
      "學屁學\n"
     ]
    }
   ],
   "source": [
    "scores = int(input(\"請輸入學生分數(0-100):\"))\n",
    "\n",
    "if scores >= 90:\n",
    "    print(\"學霸\")\n",
    "elif scores >= 80:\n",
    "    print(\"學長\")\n",
    "elif scores >= 70:\n",
    "    print(\"學弟\")\n",
    "elif scores >= 60:\n",
    "    print(\"好好學\")\n",
    "else:\n",
    "    print(\"學屁學\")"
   ]
  },
  {
   "cell_type": "code",
   "execution_count": 10,
   "id": "6d88b68a",
   "metadata": {},
   "outputs": [
    {
     "name": "stdout",
     "output_type": "stream",
     "text": [
      "====BMI計算=======\n",
      "\n",
      "您的BMI是25.31\n"
     ]
    }
   ],
   "source": [
    "# 計算BMI\n",
    "print(\"====BMI計算=======\\n\")\n",
    "height = int(input(\"請輸入身高(cm):\"))\n",
    "weight = int(input(\"請輸入體重(kg):\"))\n",
    "bmi = weight / (height/100) ** 2\n",
    "print(f\"您的BMI是{round(bmi,ndigits=2)}\")"
   ]
  },
  {
   "cell_type": "code",
   "execution_count": 13,
   "id": "802be5c0",
   "metadata": {},
   "outputs": [
    {
     "name": "stdout",
     "output_type": "stream",
     "text": [
      "====種族分類=======\n",
      "\n",
      "您的BMI是23.84\n",
      "猴族\n"
     ]
    }
   ],
   "source": [
    "# 計算BMI\n",
    "print(\"====種族分類=======\\n\")\n",
    "height = int(input(\"請輸入身高(cm):\"))\n",
    "weight = int(input(\"請輸入體重(kg):\"))\n",
    "bmi = weight / (height/100) ** 2\n",
    "print(f\"您的BMI是{round(bmi,ndigits=2)}\")\n",
    "\n",
    "if bmi<18.5:\n",
    "    print(\"排骨精\")\n",
    "elif bmi<24:\n",
    "    print(\"猴族\")\n",
    "elif bmi<27:\n",
    "    print(\"狒狒或狼\")\n",
    "elif bmi<30:\n",
    "    print(\"熊族\")\n",
    "elif bmi<35:\n",
    "    print(\"大熊\")\n",
    "else:\n",
    "    print(\"你是豬\")"
   ]
  },
  {
   "cell_type": "code",
   "execution_count": 14,
   "id": "d7d90bf3",
   "metadata": {},
   "outputs": [
    {
     "data": {
      "text/plain": [
       "True"
      ]
     },
     "execution_count": 14,
     "metadata": {},
     "output_type": "execute_result"
    }
   ],
   "source": [
    "not True\n",
    "not False"
   ]
  },
  {
   "cell_type": "code",
   "execution_count": 15,
   "id": "a8a4350e",
   "metadata": {},
   "outputs": [
    {
     "name": "stdout",
     "output_type": "stream",
     "text": [
      "不及格\n",
      "不及格\n"
     ]
    }
   ],
   "source": [
    "scores = int(input(\"請輸入學生分數\"))\n",
    "\n",
    "if scores > 60:\n",
    "    print(\"及格\")\n",
    "else:\n",
    "    print(\"不及格\")\n",
    "\n",
    "if not (scores > 60):\n",
    "    print(\"不及格\")\n",
    "else:\n",
    "    print(\"及格\")"
   ]
  }
 ],
 "metadata": {
  "kernelspec": {
   "display_name": "base",
   "language": "python",
   "name": "python3"
  },
  "language_info": {
   "codemirror_mode": {
    "name": "ipython",
    "version": 3
   },
   "file_extension": ".py",
   "mimetype": "text/x-python",
   "name": "python",
   "nbconvert_exporter": "python",
   "pygments_lexer": "ipython3",
   "version": "3.13.2"
  }
 },
 "nbformat": 4,
 "nbformat_minor": 5
}
