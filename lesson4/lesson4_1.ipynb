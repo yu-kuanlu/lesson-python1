{
 "cells": [
  {
   "cell_type": "code",
   "execution_count": 1,
   "id": "0d8657b5",
   "metadata": {},
   "outputs": [
    {
     "name": "stdout",
     "output_type": "stream",
     "text": [
      "可以考駕照!\n"
     ]
    }
   ],
   "source": [
    "# int(input(\"請輸入age\")) 為運算式\n",
    "# age = int(input(\"請輸入age\")) 為敘述式\n",
    "\n",
    "age = int(input(\"請輸入age:\"))\n",
    "\n",
    "if age >= 18:\n",
    "    print(\"可以考駕照!\")\n",
    "else:\n",
    "    print(\"不可以考駕照!\")\n",
    "\n",
    "\n",
    "\n"
   ]
  },
  {
   "cell_type": "code",
   "execution_count": 2,
   "id": "6033f5c2",
   "metadata": {},
   "outputs": [
    {
     "name": "stdout",
     "output_type": "stream",
     "text": [
      "208.95000000000002\n"
     ]
    }
   ],
   "source": [
    "# 學生總分為300\n",
    "# 有些學生可以加分5%\n",
    "# 如果加分超過300,就以300分為準\n",
    "\n",
    "scores = int(input(\"請輸入學生分數(最高300分):\"))\n",
    "is_add = input(\"學生是否符合加分條件?(y,n)\")\n",
    "\n",
    "if(is_add == 'y'): # 單項選擇\n",
    "    scores *= 1.05\n",
    "\n",
    "print(scores)"
   ]
  },
  {
   "cell_type": "code",
   "execution_count": 3,
   "id": "7ac9aca5",
   "metadata": {},
   "outputs": [
    {
     "name": "stdout",
     "output_type": "stream",
     "text": [
      "300\n"
     ]
    }
   ],
   "source": [
    "# 學生總分為300\n",
    "# 有些學生可以加分5%\n",
    "# 如果加分超過300,就以300分為準\n",
    "\n",
    "scores = int(input(\"請輸入學生分數(最高300分):\"))\n",
    "is_add = input(\"學生是否符合加分條件?(y,n)\")\n",
    "\n",
    "if(is_add == 'y'): # 單項選擇\n",
    "    scores *= 1.05\n",
    "    if scores > 300: # 利用巢狀判斷增加條件\n",
    "        scores = 300\n",
    "\n",
    "print(scores)"
   ]
  },
  {
   "cell_type": "code",
   "execution_count": 4,
   "id": "8b2336e4",
   "metadata": {},
   "outputs": [
    {
     "name": "stdout",
     "output_type": "stream",
     "text": [
      "291\n"
     ]
    }
   ],
   "source": [
    "# 學生總分為300\n",
    "# 有些學生可以加分5%\n",
    "# 如果加分超過300,就以300分為準\n",
    "\n",
    "scores = int(input(\"請輸入學生分數(最高300分):\"))\n",
    "is_add = input(\"學生是否符合加分條件?(y,n)\")\n",
    "\n",
    "if(is_add == 'y'): # 單項選擇\n",
    "    scores *= 1.05\n",
    "    if scores > 300: # 利用巢狀判斷增加條件\n",
    "        scores = 300\n",
    "\n",
    "# print(int(scores)) # 移除小數點\n",
    "print(round(scores)) # 4捨5入\n",
    "#print(round(scores, ndigits=2))\n"
   ]
  },
  {
   "cell_type": "code",
   "execution_count": 5,
   "id": "0c7de189",
   "metadata": {},
   "outputs": [
    {
     "ename": "ValueError",
     "evalue": "invalid literal for int() with base 10: '10.2'",
     "output_type": "error",
     "traceback": [
      "\u001b[31m---------------------------------------------------------------------------\u001b[39m",
      "\u001b[31mValueError\u001b[39m                                Traceback (most recent call last)",
      "\u001b[36mCell\u001b[39m\u001b[36m \u001b[39m\u001b[32mIn[5]\u001b[39m\u001b[32m, line 1\u001b[39m\n\u001b[32m----> \u001b[39m\u001b[32m1\u001b[39m money = \u001b[38;5;28;43mint\u001b[39;49m\u001b[43m(\u001b[49m\u001b[38;5;28;43minput\u001b[39;49m\u001b[43m(\u001b[49m\u001b[33;43m\"\u001b[39;49m\u001b[33;43m請輸入金額:\u001b[39;49m\u001b[33;43m\"\u001b[39;49m\u001b[43m)\u001b[49m\u001b[43m)\u001b[49m\n\u001b[32m      2\u001b[39m \u001b[38;5;28mprint\u001b[39m(money)\n",
      "\u001b[31mValueError\u001b[39m: invalid literal for int() with base 10: '10.2'"
     ]
    }
   ],
   "source": [
    "money = int(input(\"請輸入金額:\"))\n",
    "print(money)\n"
   ]
  },
  {
   "cell_type": "code",
   "execution_count": 7,
   "id": "469be966",
   "metadata": {},
   "outputs": [
    {
     "name": "stdout",
     "output_type": "stream",
     "text": [
      "再給你一次機會,好好輸入\n"
     ]
    }
   ],
   "source": [
    "#try...except\n",
    "try:\n",
    "    money = int(input(\"請輸入金額:\"))\n",
    "    print(money)\n",
    "except:\n",
    "    print(\"再給你一次機會,好好輸入\")"
   ]
  },
  {
   "cell_type": "code",
   "execution_count": 8,
   "id": "a104cd54",
   "metadata": {},
   "outputs": [
    {
     "name": "stdout",
     "output_type": "stream",
     "text": [
      "無法轉換為整數,輸入錯誤\n",
      "應用程式結束\n"
     ]
    }
   ],
   "source": [
    "#try...except\n",
    "try:\n",
    "    money = int(input(\"請輸入金額:\"))\n",
    "    raise Exception(\"手動發出錯誤\")\n",
    "    print(money)\n",
    "except ValueError:\n",
    "    print(\"無法轉換為整數,輸入錯誤\")\n",
    "except:\n",
    "    print(\"不知名的錯誤\")\n",
    "\n",
    "print(\"應用程式結束\")"
   ]
  },
  {
   "cell_type": "code",
   "execution_count": 9,
   "id": "77d129ea",
   "metadata": {},
   "outputs": [
    {
     "name": "stdout",
     "output_type": "stream",
     "text": [
      "無法轉換為整數,輸入錯誤\n",
      "應用程式結束\n"
     ]
    }
   ],
   "source": [
    "#try...except\n",
    "try:\n",
    "    money = int(input(\"請輸入金額:\"))\n",
    "    raise Exception(\"手動發出錯誤\")\n",
    "    print(money)\n",
    "except ValueError:\n",
    "    print(\"無法轉換為整數,輸入錯誤\")\n",
    "except:\n",
    "    print(\"不知名的錯誤\")\n",
    "\n",
    "print(\"應用程式結束\")"
   ]
  },
  {
   "cell_type": "code",
   "execution_count": 11,
   "id": "2bd8c529",
   "metadata": {},
   "outputs": [
    {
     "name": "stdout",
     "output_type": "stream",
     "text": [
      "300\n",
      "應用程式結束\n"
     ]
    }
   ],
   "source": [
    "# 學生總分為300\n",
    "# 有些學生可以加分5%\n",
    "# 如果加分超過300,就以300分為準\n",
    "try:\n",
    "    scores = int(input(\"請輸入學生分數(最高300分):\"))\n",
    "    is_add = input(\"學生是否符合加分條件?(y,n)\")\n",
    "\n",
    "    if(is_add == 'y'): # 單項選擇\n",
    "        scores *= 1.05\n",
    "        if scores > 300: # 利用巢狀判斷增加條件\n",
    "            scores = 300\n",
    "\n",
    "    print(round(scores)) # 4捨5入\n",
    "except ValueError:\n",
    "    print(\"輸入學生的分數,無法辨識\")\n",
    "except:\n",
    "    print(\"出現錯誤,請重新執行\")\n",
    "\n",
    "print(\"應用程式結束\")"
   ]
  },
  {
   "cell_type": "code",
   "execution_count": 13,
   "id": "62f393b1",
   "metadata": {},
   "outputs": [
    {
     "name": "stdout",
     "output_type": "stream",
     "text": [
      "分數不可以超過300\n",
      "應用程式結束\n"
     ]
    }
   ],
   "source": [
    "# 學生總分為300\n",
    "# 有些學生可以加分5%\n",
    "# 如果加分超過300,就以300分為準\n",
    "try:\n",
    "    scores = int(input(\"請輸入學生分數(最高300分):\"))\n",
    "    if scores > 300:\n",
    "        print(\"分數不可以超過300\")\n",
    "    else:\n",
    "        is_add = input(\"學生是否符合加分條件?(y,n)\")\n",
    "\n",
    "        if(is_add == 'y'): # 單項選擇\n",
    "            scores *= 1.05\n",
    "            if scores > 300: # 利用巢狀判斷增加條件\n",
    "                scores = 300\n",
    "\n",
    "        print(round(scores)) # 4捨5入\n",
    "except ValueError:\n",
    "    print(\"輸入學生的分數,無法辨識\")\n",
    "except:\n",
    "    print(\"出現錯誤,請重新執行\")\n",
    "\n",
    "print(\"應用程式結束\")"
   ]
  },
  {
   "cell_type": "code",
   "execution_count": 15,
   "id": "4efaf1f4",
   "metadata": {},
   "outputs": [
    {
     "name": "stdout",
     "output_type": "stream",
     "text": [
      "126\n",
      "應用程式結束\n"
     ]
    }
   ],
   "source": [
    "# 學生總分為300\n",
    "# 有些學生可以加分5%\n",
    "# 如果加分超過300,就以300分為準\n",
    "try:\n",
    "    scores = int(input(\"請輸入學生分數(最高300分):\"))\n",
    "    if scores > 300:\n",
    "        raise Exception(\"分數不可以超過300\") # 手動raise錯誤\n",
    "    \n",
    "    is_add = input(\"學生是否符合加分條件?(y,n)\")\n",
    "\n",
    "    if(is_add == 'y'): # 單項選擇\n",
    "        scores *= 1.05\n",
    "        if scores > 300: # 利用巢狀判斷增加條件\n",
    "            scores = 300\n",
    "\n",
    "    print(round(scores)) # 4捨5入\n",
    "except ValueError:\n",
    "    print(\"輸入學生的分數,無法辨識\")\n",
    "except Exception as error:\n",
    "    print(error)\n",
    "\n",
    "print(\"應用程式結束\")"
   ]
  }
 ],
 "metadata": {
  "kernelspec": {
   "display_name": "base",
   "language": "python",
   "name": "python3"
  },
  "language_info": {
   "codemirror_mode": {
    "name": "ipython",
    "version": 3
   },
   "file_extension": ".py",
   "mimetype": "text/x-python",
   "name": "python",
   "nbconvert_exporter": "python",
   "pygments_lexer": "ipython3",
   "version": "3.13.2"
  }
 },
 "nbformat": 4,
 "nbformat_minor": 5
}
